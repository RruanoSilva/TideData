{
 "cells": [
  {
   "cell_type": "code",
   "execution_count": null,
   "metadata": {},
   "outputs": [],
   "source": [
    "#importar pandas\n",
    "import pandas as pd   \n",
    "import matplotlib.pyplot as plt"
   ]
  },
  {
   "cell_type": "code",
   "execution_count": null,
   "metadata": {},
   "outputs": [],
   "source": [
    "# Renomear as colunas do arquivo\n",
    "#Gravar o arquivo no dataframe df1, avisando que o cabeçalho está na 1 linha\n",
    "colunasNomes = ['a','Data_Hora','Pressão absoluta','Temperatura','Pressão atmosférica','Profundidade','inutil1','inutil2','inutil3','inutil4','inutil5']\n",
    "df1 = pd.read_csv('mar.csv', header = 1, names = colunasNomes)"
   ]
  },
  {
   "cell_type": "code",
   "execution_count": null,
   "metadata": {},
   "outputs": [],
   "source": [
    "#visualizar o documento\n",
    "df1.head()"
   ]
  },
  {
   "cell_type": "code",
   "execution_count": null,
   "metadata": {},
   "outputs": [],
   "source": [
    "#gravar na variável novoMare  as colunas que eu quero usando o camando loc ou o Iloc https://www.youtube.com/watch?v=xvpNA7bC8cs&list=PL5-da3qGB5ICCsgW1MxlZ0Hq8LL5U3u9y&index=19\n",
    "#NovoMare = df1.loc[:, ['Data-Hora','Profundidade']]\n",
    "\n",
    "NovoMare = df1.iloc[:, [1,5]]\n",
    "NovoMare.head()\n"
   ]
  },
  {
   "cell_type": "code",
   "execution_count": null,
   "metadata": {},
   "outputs": [],
   "source": [
    "#Organizando Profundidade - 1-Salvando em uma lista, 2 - usar o filter >1, 3-calcular média móvel, 4- reduzir 1.1925\n",
    "Profundidade = list(NovoMare.Profundidade)\n",
    "Profundidade = list(filter(lambda x: x > 1, Profundidade))\n",
    "\n",
    "i = 0\n",
    "while i < len(Profundidade):\n",
    "    Profundidade[i] = Profundidade [i] - 1.1925\n",
    "    i = i + 1\n",
    "    \n",
    "Profundidade\n",
    "len(Profundidade)\n"
   ]
  },
  {
   "cell_type": "code",
   "execution_count": null,
   "metadata": {},
   "outputs": [],
   "source": [
    "#Criar a função limpa data\n",
    "data = '01/08/18 13H0min0s'\n",
    "def limpadata (data):\n",
    "    data = data.replace('min','')\n",
    "    data = data.replace('s','')\n",
    "    data = data.replace('H',':')\n",
    "    return (data)\n",
    "\n",
    "#limpadata('01/08/18 13H0min0s')"
   ]
  },
  {
   "cell_type": "code",
   "execution_count": null,
   "metadata": {},
   "outputs": [],
   "source": [
    "#limpa a data da coluna inteira\n",
    "Data_Hora = list(map(limpadata,NovoMare.Data_Hora))\n",
    "len(Data_Hora)\n"
   ]
  },
  {
   "cell_type": "code",
   "execution_count": null,
   "metadata": {},
   "outputs": [],
   "source": [
    "# deletando o mesmo número de elementos deletados no vetor profundidade para poder criar um dataframe\n",
    "del Data_Hora[(len(Profundidade)):(len(Data_Hora))]\n",
    "len(Profundidade)== len(Data_Hora)"
   ]
  },
  {
   "cell_type": "code",
   "execution_count": null,
   "metadata": {},
   "outputs": [],
   "source": [
    "#Criando dataframe com os dois vetores\n",
    "Mare_Organizada = pd.DataFrame(\n",
    "    {'Data_Hora': Data_Hora,\n",
    "     'Mare_Nivelada': Profundidade,\n",
    "     })\n",
    "Mare_Organizada"
   ]
  },
  {
   "cell_type": "code",
   "execution_count": null,
   "metadata": {},
   "outputs": [],
   "source": [
    "#Time Series chart"
   ]
  },
  {
   "cell_type": "code",
   "execution_count": null,
   "metadata": {},
   "outputs": [],
   "source": []
  }
 ],
 "metadata": {
  "kernelspec": {
   "display_name": "Python 3",
   "language": "python",
   "name": "python3"
  },
  "language_info": {
   "codemirror_mode": {
    "name": "ipython",
    "version": 3
   },
   "file_extension": ".py",
   "mimetype": "text/x-python",
   "name": "python",
   "nbconvert_exporter": "python",
   "pygments_lexer": "ipython3",
   "version": "3.7.0"
  }
 },
 "nbformat": 4,
 "nbformat_minor": 2
}
